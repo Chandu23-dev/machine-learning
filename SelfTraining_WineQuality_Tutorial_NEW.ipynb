{
 "cells": [
  {
   "cell_type": "markdown",
   "id": "de937503",
   "metadata": {},
   "source": [
    "# Self-Training with Semi-Supervised Learning on Wine Quality Dataset\n",
    "\n",
    "This notebook demonstrates Self-Training, a semi-supervised learning technique. We simulate a realistic scenario using the Wine Quality dataset by masking most of the labels and training a classifier using both labeled and unlabeled data.\n"
   ]
  },
  {
   "cell_type": "code",
   "execution_count": null,
   "id": "133bb2a5",
   "metadata": {},
   "outputs": [],
   "source": [
    "import pandas as pd\n",
    "import numpy as np\n",
    "import matplotlib.pyplot as plt\n",
    "import seaborn as sns\n",
    "from sklearn.model_selection import train_test_split\n",
    "from sklearn.preprocessing import StandardScaler\n",
    "from sklearn.linear_model import LogisticRegression\n",
    "from sklearn.semi_supervised import SelfTrainingClassifier\n",
    "from sklearn.metrics import classification_report, confusion_matrix, roc_auc_score, RocCurveDisplay\n",
    "\n",
    "sns.set(style=\"whitegrid\")"
   ]
  },
  {
   "cell_type": "code",
   "execution_count": null,
   "id": "1c3d5acc",
   "metadata": {},
   "outputs": [],
   "source": [
    "# Load dataset\n",
    "df = pd.read_csv(\"winequality-red.csv\", sep=';')\n",
    "df.head()"
   ]
  },
  {
   "cell_type": "markdown",
   "id": "edce5c7a",
   "metadata": {},
   "source": [
    "## Exploratory Data Analysis (EDA)"
   ]
  },
  {
   "cell_type": "code",
   "execution_count": null,
   "id": "8e122560",
   "metadata": {},
   "outputs": [],
   "source": [
    "print(\"Shape:\", df.shape)\n",
    "print(\"\\nMissing Values:\\n\", df.isnull().sum())\n",
    "print(\"\\nQuality Distribution:\\n\", df['quality'].value_counts().sort_index())"
   ]
  },
  {
   "cell_type": "code",
   "execution_count": null,
   "id": "3ba3d7b1",
   "metadata": {},
   "outputs": [],
   "source": [
    "# Class distribution\n",
    "plt.figure(figsize=(8, 4))\n",
    "sns.countplot(x='quality', data=df, palette='Set2')\n",
    "plt.title('Wine Quality Distribution')\n",
    "plt.xlabel('Quality Score')\n",
    "plt.ylabel('Count')\n",
    "plt.tight_layout()\n",
    "plt.show()"
   ]
  },
  {
   "cell_type": "code",
   "execution_count": null,
   "id": "cd2199c0",
   "metadata": {},
   "outputs": [],
   "source": [
    "# Correlation heatmap\n",
    "plt.figure(figsize=(12, 8))\n",
    "sns.heatmap(df.corr(), annot=True, fmt=\".2f\", cmap='coolwarm', square=True)\n",
    "plt.title('Feature Correlation Heatmap')\n",
    "plt.tight_layout()\n",
    "plt.show()"
   ]
  },
  {
   "cell_type": "markdown",
   "id": "d18a515f",
   "metadata": {},
   "source": [
    "## Preprocessing"
   ]
  },
  {
   "cell_type": "code",
   "execution_count": null,
   "id": "38ec34e2",
   "metadata": {},
   "outputs": [],
   "source": [
    "# Binary classification: Good (>=7) vs Not Good (<7)\n",
    "df['label'] = (df['quality'] >= 7).astype(int)\n",
    "df = df.drop(columns='quality')\n",
    "X = df.drop(columns='label')\n",
    "y = df['label']"
   ]
  },
  {
   "cell_type": "markdown",
   "id": "2ff59dcc",
   "metadata": {},
   "source": [
    "## Simulating Semi-Supervised Learning"
   ]
  },
  {
   "cell_type": "code",
   "execution_count": null,
   "id": "afb6092a",
   "metadata": {},
   "outputs": [],
   "source": [
    "# Mask 80% of labels\n",
    "rng = np.random.RandomState(42)\n",
    "y_masked = y.copy()\n",
    "mask = rng.rand(len(y)) < 0.8\n",
    "y_masked[mask] = -1\n",
    "print(f\"Labeled: {(y_masked != -1).sum()}, Unlabeled: {(y_masked == -1).sum()}\")"
   ]
  },
  {
   "cell_type": "markdown",
   "id": "50163f2b",
   "metadata": {},
   "source": [
    "## Self-Training Classifier"
   ]
  },
  {
   "cell_type": "code",
   "execution_count": null,
   "id": "e05750db",
   "metadata": {},
   "outputs": [],
   "source": [
    "# Standardize features\n",
    "scaler = StandardScaler()\n",
    "X_scaled = scaler.fit_transform(X)\n",
    "\n",
    "# Train model\n",
    "base_model = LogisticRegression(max_iter=1000)\n",
    "self_training_model = SelfTrainingClassifier(base_model, threshold=0.8, verbose=True)\n",
    "self_training_model.fit(X_scaled, y_masked)"
   ]
  },
  {
   "cell_type": "markdown",
   "id": "bb341df0",
   "metadata": {},
   "source": [
    "## Evaluation"
   ]
  },
  {
   "cell_type": "code",
   "execution_count": null,
   "id": "6255edc5",
   "metadata": {},
   "outputs": [],
   "source": [
    "y_pred = self_training_model.predict(X_scaled)\n",
    "y_proba = self_training_model.predict_proba(X_scaled)[:, 1]\n",
    "\n",
    "print(classification_report(y, y_pred))\n",
    "\n",
    "# Confusion Matrix\n",
    "sns.heatmap(confusion_matrix(y, y_pred), annot=True, fmt='d', cmap='Blues')\n",
    "plt.title('Confusion Matrix')\n",
    "plt.xlabel('Predicted')\n",
    "plt.ylabel('True')\n",
    "plt.tight_layout()\n",
    "plt.show()\n",
    "\n",
    "# ROC Curve\n",
    "roc_auc = roc_auc_score(y, y_proba)\n",
    "print(f\"ROC AUC Score: {roc_auc:.4f}\")\n",
    "RocCurveDisplay.from_predictions(y, y_proba)\n",
    "plt.title(\"ROC Curve\")\n",
    "plt.tight_layout()\n",
    "plt.show()"
   ]
  }
 ],
 "metadata": {},
 "nbformat": 4,
 "nbformat_minor": 5
}
